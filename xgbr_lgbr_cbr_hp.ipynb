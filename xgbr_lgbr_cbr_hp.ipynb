{
 "cells": [
  {
   "cell_type": "markdown",
   "metadata": {
    "pycharm": {
     "name": "#%% md\n"
    }
   },
   "source": [
    "# Курс по машинному обучению,   ВМК МГУ\n",
    "## Градиентный бустинг деревьев"
   ]
  },
  {
   "cell_type": "markdown",
   "metadata": {},
   "source": [
    "### Важно! О формате сдачи\n",
    "\n",
    "* **Практически все выделенные задания из ноутбука оцениваются по системе <font color='red'>кросс-рецензирования</font>. Задания, в котором надо реализовать свой код и послать в систему, выделены здесь и в pdf отдельно**\n",
    "* **В этом ноутбуке есть задание на ML-решение**\n",
    "* **При решении ноутбука используйте данный шаблон. Не нужно удалять текстовые ячейки c разметкой частей ноутбука и формулировками заданий. Добавлять свои ячейки, при необходимости, конечно можно**\n",
    "* **Везде, где в формулровке задания есть какой-либо вопрос (или просьба вывода), необходимо прописать ответ в ячейку (код или markdown).**\n",
    "* **Наличие кода решения обязательно. Письменные ответы на вопросы без сопутствующего кода оцениваются в 0 баллов.**"
   ]
  },
  {
   "cell_type": "markdown",
   "metadata": {},
   "source": [
    "**А также..**\n",
    "\n",
    "Если в ячейке написана фраза \"Вывод\"/\"Ответ на вопрос\" итд, то ожидается ответ в виде текста (можете добавить ячейки с кодом, если считаете это необходимым, но это необязательно). Если в ячейке написано \"Your code here\", то ожидается ответ в виде кода (можете добавить ячейки с кодом, если считаете это необходимым, но это необязательно). Если есть и ячейка с фразой \"Вывод\", и ячейка с фразой \"Your code here\", то в ответе ожидается и код, и текст)"
   ]
  },
  {
   "cell_type": "markdown",
   "metadata": {},
   "source": [
    "__В этом задании вы..:__\n",
    "\n",
    "- Познакомитесь с несколькими новыми библиотеками машинного обучения\n",
    "- Сравните между собой разные реализации градиентных бустингов\n",
    "- Примените все полученные знания для получения лучшего скора на датасете фильмов"
   ]
  },
  {
   "cell_type": "markdown",
   "metadata": {},
   "source": [
    "\n",
    "\n",
    "\n",
    "## Введение\n",
    "\n",
    "Привет, ребятушки!\n",
    "\n",
    "Сегодня мы с вами будем решать очень важную задачу, а именно оценивать цену поддержанных автомобилей в ряде стран. Делать мы это будем с помощью различных методов градиентного бустинга. Мы с вами узнаем, что в мире существует не только sklearn, и что существуют библиотеки, облегчающие нам задачу поиска оптимальных параметров для моделей.\n",
    "\n",
    "**Внимание! Во всех заданиях в качестве целевой метрики используется MAE (средняя абсолютная ошибка).** Значение MAE вычисляется как\n",
    "\n",
    "$$\n",
    "  MAE = \\sum_{i = 1}^N\\dfrac{|a(x_i) - y_i|}{N},\n",
    "$$\n",
    "\n",
    "где $N$ - число объектов в тестовой выборке, $x_i$ - вектор признаков i-го объекта, $a(x_i)$ - предсказание на i-ом объекте, $y_i$ - значение целевого признака на i-м объекте."
   ]
  },
  {
   "cell_type": "markdown",
   "metadata": {
    "pycharm": {
     "name": "#%% md\n"
    }
   },
   "source": [
    "## Установка дополнительных библиотек.\n",
    "\n",
    "В этом задании нам понадобятся три бибиотеки, которыми вы ранее не пользовались в этом курсе, а именно:\n",
    "\n",
    "**XGBoost**: Документация [здесь](https://xgboost.readthedocs.io/en/stable/).<br />\n",
    "**LightGBM**: Документация [здесь](https://lightgbm.readthedocs.io/en/latest/index.html). Также дополнительно про установку [тут](https://pypi.org/project/lightgbm/).<br />\n",
    "**Catboost**: Документация [здесь](https://catboost.ai/en/docs/). Можно найти также некоторую информацию на русском [тут](https://habr.com/ru/company/otus/blog/527554/).<br />\n",
    "**HyperOpt**: Документация [здесь](http://hyperopt.github.io/hyperopt/). <br />\n",
    "\n",
    "Все библиотеки легко ставятся через pip (либо альтернативные установщики вроде conda).\n"
   ]
  },
  {
   "cell_type": "markdown",
   "metadata": {
    "pycharm": {
     "name": "#%% md\n"
    }
   },
   "source": [
    "## Как правильно перебирать параметры\n",
    "\n",
    "В этом ноутбуке мы будем несколько раз заниматься поиском оптимальных параметров для градиентного бустинга, перебирая задания по заданной сетке. В этом задании от Вас не будет требоваться найти самые лучшие параметры, но всё равно важно правильно составлять сетку для перебора. Для этого нужно понимать суть параметров и их смысл.\n",
    "\n",
    "\n",
    "\n",
    "**learning_rate** -- темп обучения нашего метода. Для этого метода сетка перебора должна быть логарифмической, т.е. перебирать порядковые значения (к примеру, [1e-3, 1e-2, 1e-1, 1]). В большинстве случаев достаточно перебрать значения от 1e-5 до 1.<br />\n",
    "**max_depth** -- максимальная глубина деревьев в ансамбле. Вообще говоря, эта величина зависит от числа признаков, но обычно лучше растить небольшие деревья. К примеру, библиотека CatBoost, которую мы будем исследовать сегодня, рекомендует перебирать значения до 10 (и уточняется, что обычно оптимальная глубина лежит от 6 до 10).<br />\n",
    "**n_estimators** -- количество деревьев в ансамбле. Обычно стоит перебирать с каким-то крупным шагом (можно по логарифмической сетке). Здесь важно найти баланс между производительностью, временем обучения и качеством. Обычно нескольких тысяч деревьев бывает достаточно.<br />\n",
    "\n",
    "Учтите, что в реальных задачах необходимо следить за тем, что оптимальные значения параметров не попадают на границы интервалов, т.е. что вы нашли хотя бы локальный минимум. Если Вы перебрали значения параметра от 1 до 10 и оказалось, что 10 - оптимальное значение, значит следует перебрать и бОльшие числа, чтобы убедиться, что качество не улучшается дальше (или по крайней мере убедиться, что рост качества сильно замедляется и на сильное улучшения рассчитывать не стоит.\n"
   ]
  },
  {
   "cell_type": "markdown",
   "metadata": {},
   "source": [
    "## Подготовка датасета\n",
    "\n",
    "Все библиотеки, используемые сегодня, мы будем проверять на одних и тех же параметрах: n_estimators=1000, max_depth=5, learning_rate=0.1. Таким образом мы устанавливаем, соответственно, число деревьев в ансамбле равным 1000, ограничиваем максимальную глубину деревьев 5 и устанавливаем темп обучения равным 0.1. Создадим сразу словарь, чтобы передавать эти параметры создаваемым регрессорам (если вдруг не знали, словарь можно передавать как параметры, поставив перед ним **).\n",
    "\n",
    "Эти параметры мы вынесем в отдельную переменную `test_parameters`.\n",
    "\n",
    "<span style=\"color:red\">Загрузите датасет, с которым мы будем работать. Его можно найти на платформе cv-gml.ru, в задании `Град. бустинг (ML)`, по ссылке `Дополнительные файлы для решения`. Если Вы решите сохранить этот файл не рядом с ноутбуком, Вы можете исправить путь к этому файлу во второй ячейке ноутбука (в строке с `read_csv`).</span>\n",
    "\n",
    "При желании можно почитать про этот датасет на платформе kaggle: [ссылка на данные](https://www.kaggle.com/bushnag/cars-in-the-middle-east?select=dataframe_YesIndex_YesHeader_C.csv). <span style=\"color:red\"> Не скачивайте датасет из kaggle для выполнения ноутбука, поскольку его могут изменить.</span> Нас интересует файл dataframe_YesIndex_YesHeader_C.csv, поскольку он уже хорошо предобработан (хотя, конечно, датасаентисты должны сами уметь это делать, но ладно).\n",
    "Давайте попробуем загрузить датасет в память и посмотреть, как он выглядит."
   ]
  },
  {
   "cell_type": "code",
   "execution_count": null,
   "metadata": {
    "execution": {
     "iopub.execute_input": "2022-03-27T17:07:00.09054Z",
     "iopub.status.busy": "2022-03-27T17:07:00.090233Z",
     "iopub.status.idle": "2022-03-27T17:07:08.864953Z",
     "shell.execute_reply": "2022-03-27T17:07:08.863954Z",
     "shell.execute_reply.started": "2022-03-27T17:07:00.090512Z"
    }
   },
   "outputs": [],
   "source": [
    "pip install hyperopt"
   ]
  },
  {
   "cell_type": "code",
   "execution_count": null,
   "metadata": {
    "execution": {
     "iopub.execute_input": "2022-03-27T17:07:08.867724Z",
     "iopub.status.busy": "2022-03-27T17:07:08.867403Z",
     "iopub.status.idle": "2022-03-27T17:07:30.416097Z",
     "shell.execute_reply": "2022-03-27T17:07:30.415331Z",
     "shell.execute_reply.started": "2022-03-27T17:07:08.86768Z"
    }
   },
   "outputs": [],
   "source": [
    "!pip install xgboost\n",
    "!pip install lightgbm\n",
    "!pip install catboost"
   ]
  },
  {
   "cell_type": "code",
   "execution_count": 60,
   "metadata": {
    "execution": {
     "iopub.execute_input": "2022-03-27T17:12:46.447849Z",
     "iopub.status.busy": "2022-03-27T17:12:46.447221Z",
     "iopub.status.idle": "2022-03-27T17:12:46.456046Z",
     "shell.execute_reply": "2022-03-27T17:12:46.455065Z",
     "shell.execute_reply.started": "2022-03-27T17:12:46.447812Z"
    },
    "pycharm": {
     "name": "#%%\n"
    }
   },
   "outputs": [],
   "source": [
    "%matplotlib inline\n",
    "from sklearn.ensemble import GradientBoostingRegressor\n",
    "from sklearn.model_selection import train_test_split, GridSearchCV, cross_val_score, RandomizedSearchCV\n",
    "from sklearn.metrics import mean_absolute_error, make_scorer\n",
    "\n",
    "from hyperopt import hp, tpe, Trials\n",
    "from hyperopt.fmin import fmin\n",
    "from hyperopt.pyll import scope\n",
    "\n",
    "from xgboost import XGBRegressor\n",
    "\n",
    "from lightgbm import LGBMRegressor\n",
    "\n",
    "from catboost import CatBoostRegressor\n",
    "\n",
    "import matplotlib.pyplot as plt\n",
    "\n",
    "import pandas as pd\n",
    "\n",
    "import numpy as np\n",
    "\n",
    "import time\n",
    "\n",
    "from scipy.stats import randint as sp_randint\n",
    "from scipy.stats import uniform as sp_uniform"
   ]
  },
  {
   "cell_type": "code",
   "execution_count": 61,
   "metadata": {
    "execution": {
     "iopub.execute_input": "2022-03-27T17:12:46.826265Z",
     "iopub.status.busy": "2022-03-27T17:12:46.825978Z",
     "iopub.status.idle": "2022-03-27T17:12:46.873458Z",
     "shell.execute_reply": "2022-03-27T17:12:46.872821Z",
     "shell.execute_reply.started": "2022-03-27T17:12:46.826230Z"
    },
    "pycharm": {
     "name": "#%%\n"
    }
   },
   "outputs": [],
   "source": [
    "test_parameters = {\"n_estimators\": 1000, \"max_depth\": 5, \"learning_rate\":0.1}\n",
    "\n",
    "df = pd.read_csv('../input/hw-gb-1/dataframe_YesIndex_YesHeader_C.csv', index_col=0)\n",
    "df.head()"
   ]
  },
  {
   "cell_type": "markdown",
   "metadata": {
    "pycharm": {
     "name": "#%% md\n"
    }
   },
   "source": [
    "### Задание 0 (без проверки, 0 баллов)\n",
    "\n",
    "Посмотрите на цены автомобилей. Попробуйте понять, написаны они в одной валюте или нет. Если нет -- будут ли у нас серьезные проблемы при использовании деревьев? Стоит ли нам что-то сделать для того, чтобы нивелировать эту проблему?\n"
   ]
  },
  {
   "cell_type": "markdown",
   "metadata": {},
   "source": [
    "В глаза бросаются две проблемы: у нас имеется информация о производителе автомобиля, скрытая в текстовой переменной модели автомобиля (нет отдельного признака). Также имеются некоторые категориальные переменные. Со всем этим безобразием надо что-то сделать.\n",
    "\n",
    "### **Задание 1 (кросс-проверка, 3 балла)**\n",
    "**Данные**: датасет со стоимостью поддержанных автомобилей  \n",
    "**Цели**: В данном задании следует выполнить следующие пункты (выполнять можно в любом порядке)\n",
    "1. Изучить датасет, проверить наличие пропусков. При необходимости заменить их на среднее значение признака.\n",
    "3. Добавить столбец brand с информацией о производителе автомобиля (для простоты можно взять первое слово в названии модели)\n",
    "4. Решить, какие признаки Вы хотите сделать категориальными. Конвертировать выбранные категориальные столбцы в тип category. \n",
    "5. Создать датасет А с категориальными признаками в виде категорий. Для этого необходимо создать вектор целевых значений (столбец цен автомобилей) и матрицу признаков с категориальными переменными в виде категорий (получается путем удаления только целевой переменной из матрицы с данными). Дополнительно стоит создать список с названиями и индексами столбцов категориальных переменных (поможет в будущем).\n",
    "6. Создать датасет B без категориальных признаков. Для этого необходимо создать вектор целевых значений (столбец цен автомобилей) и удалить из матрицы признаков столбец с целевыми переменными, а также все категориальные переменные.\n",
    "8. Создать датасет C с категориальными признаками в виде one-hot encoding. Для этого необходимо создать вектор целевых значений (столбец цен автомобилей), удалить из матрицы признаков столбец с целевыми переменными и все категориальными переменные, а затем добавить новые признаки, соответствующие one-hot encoding категориальных переменных (здесь вам поможет функция `pd.get_dummies`).\n",
    "9. Разбить датасеты на тренировочное и тестовое множества, используя `train_test_split(X, y, test_size=0.25, random_state=0)` (зафиксировав random_seed мы получим одинаковое разбиение на обучение/тест для всех трёх выборок)."
   ]
  },
  {
   "cell_type": "code",
   "execution_count": 62,
   "metadata": {
    "execution": {
     "iopub.execute_input": "2022-03-27T17:12:48.003123Z",
     "iopub.status.busy": "2022-03-27T17:12:48.002428Z",
     "iopub.status.idle": "2022-03-27T17:12:48.011188Z",
     "shell.execute_reply": "2022-03-27T17:12:48.010512Z",
     "shell.execute_reply.started": "2022-03-27T17:12:48.003088Z"
    }
   },
   "outputs": [],
   "source": [
    "df.isna().sum()"
   ]
  },
  {
   "cell_type": "markdown",
   "metadata": {},
   "source": [
    "как можно убедиться, пропусков в датасете нет"
   ]
  },
  {
   "cell_type": "code",
   "execution_count": 63,
   "metadata": {
    "execution": {
     "iopub.execute_input": "2022-03-27T17:12:48.219914Z",
     "iopub.status.busy": "2022-03-27T17:12:48.219515Z",
     "iopub.status.idle": "2022-03-27T17:12:48.230360Z",
     "shell.execute_reply": "2022-03-27T17:12:48.229784Z",
     "shell.execute_reply.started": "2022-03-27T17:12:48.219885Z"
    }
   },
   "outputs": [],
   "source": [
    "df['brand'] = df['name'].apply(lambda x: x.split()[0])\n",
    "df['brand']"
   ]
  },
  {
   "cell_type": "code",
   "execution_count": 64,
   "metadata": {
    "execution": {
     "iopub.execute_input": "2022-03-27T17:12:48.352383Z",
     "iopub.status.busy": "2022-03-27T17:12:48.351565Z",
     "iopub.status.idle": "2022-03-27T17:12:48.358056Z",
     "shell.execute_reply": "2022-03-27T17:12:48.357192Z",
     "shell.execute_reply.started": "2022-03-27T17:12:48.352344Z"
    }
   },
   "outputs": [],
   "source": [
    "df.index"
   ]
  },
  {
   "cell_type": "code",
   "execution_count": 65,
   "metadata": {
    "execution": {
     "iopub.execute_input": "2022-03-27T17:12:48.516019Z",
     "iopub.status.busy": "2022-03-27T17:12:48.515711Z",
     "iopub.status.idle": "2022-03-27T17:12:48.534984Z",
     "shell.execute_reply": "2022-03-27T17:12:48.533980Z",
     "shell.execute_reply.started": "2022-03-27T17:12:48.515987Z"
    }
   },
   "outputs": [],
   "source": [
    "unique_cnt = pd.DataFrame.from_records([(col, df[col].nunique()) for col in df.columns],\n",
    "                          columns=['col_name', 'unique']).sort_values(by=['unique'])\n",
    "unique_cnt"
   ]
  },
  {
   "cell_type": "code",
   "execution_count": 66,
   "metadata": {
    "execution": {
     "iopub.execute_input": "2022-03-27T17:12:48.609293Z",
     "iopub.status.busy": "2022-03-27T17:12:48.608686Z",
     "iopub.status.idle": "2022-03-27T17:12:48.615428Z",
     "shell.execute_reply": "2022-03-27T17:12:48.614575Z",
     "shell.execute_reply.started": "2022-03-27T17:12:48.609254Z"
    }
   },
   "outputs": [],
   "source": [
    "cat_cols = unique_cnt[:7]['col_name'].to_list()\n",
    "cat_cols"
   ]
  },
  {
   "cell_type": "code",
   "execution_count": 67,
   "metadata": {
    "execution": {
     "iopub.execute_input": "2022-03-27T17:12:48.718948Z",
     "iopub.status.busy": "2022-03-27T17:12:48.718657Z",
     "iopub.status.idle": "2022-03-27T17:12:48.725449Z",
     "shell.execute_reply": "2022-03-27T17:12:48.724531Z",
     "shell.execute_reply.started": "2022-03-27T17:12:48.718915Z"
    }
   },
   "outputs": [],
   "source": [
    "cat_indexes = list(unique_cnt[:7].index)\n",
    "cat_indexes"
   ]
  },
  {
   "cell_type": "code",
   "execution_count": 68,
   "metadata": {
    "execution": {
     "iopub.execute_input": "2022-03-27T17:12:48.848252Z",
     "iopub.status.busy": "2022-03-27T17:12:48.847613Z",
     "iopub.status.idle": "2022-03-27T17:12:48.852548Z",
     "shell.execute_reply": "2022-03-27T17:12:48.851962Z",
     "shell.execute_reply.started": "2022-03-27T17:12:48.848207Z"
    }
   },
   "outputs": [],
   "source": [
    "cat_indexes.append(21)"
   ]
  },
  {
   "cell_type": "code",
   "execution_count": 69,
   "metadata": {
    "execution": {
     "iopub.execute_input": "2022-03-27T17:12:48.928392Z",
     "iopub.status.busy": "2022-03-27T17:12:48.927979Z",
     "iopub.status.idle": "2022-03-27T17:12:48.932132Z",
     "shell.execute_reply": "2022-03-27T17:12:48.931379Z",
     "shell.execute_reply.started": "2022-03-27T17:12:48.928361Z"
    }
   },
   "outputs": [],
   "source": [
    "cat_cols.append('brand')"
   ]
  },
  {
   "cell_type": "code",
   "execution_count": 70,
   "metadata": {
    "execution": {
     "iopub.execute_input": "2022-03-27T17:12:49.060372Z",
     "iopub.status.busy": "2022-03-27T17:12:49.059811Z",
     "iopub.status.idle": "2022-03-27T17:12:49.067063Z",
     "shell.execute_reply": "2022-03-27T17:12:49.066099Z",
     "shell.execute_reply.started": "2022-03-27T17:12:49.060323Z"
    }
   },
   "outputs": [],
   "source": [
    "cat_cols"
   ]
  },
  {
   "cell_type": "code",
   "execution_count": 71,
   "metadata": {
    "execution": {
     "iopub.execute_input": "2022-03-27T17:12:49.171141Z",
     "iopub.status.busy": "2022-03-27T17:12:49.170858Z",
     "iopub.status.idle": "2022-03-27T17:12:49.182673Z",
     "shell.execute_reply": "2022-03-27T17:12:49.182001Z",
     "shell.execute_reply.started": "2022-03-27T17:12:49.171110Z"
    }
   },
   "outputs": [],
   "source": [
    "for col in cat_cols:\n",
    "    df[col] = df[col].astype('category')"
   ]
  },
  {
   "cell_type": "code",
   "execution_count": 72,
   "metadata": {
    "execution": {
     "iopub.execute_input": "2022-03-27T17:12:49.299163Z",
     "iopub.status.busy": "2022-03-27T17:12:49.298610Z",
     "iopub.status.idle": "2022-03-27T17:12:49.303737Z",
     "shell.execute_reply": "2022-03-27T17:12:49.303142Z",
     "shell.execute_reply.started": "2022-03-27T17:12:49.299117Z"
    }
   },
   "outputs": [],
   "source": [
    "datasets = {'A' : None, 'B': None, 'C': None}"
   ]
  },
  {
   "cell_type": "code",
   "execution_count": 73,
   "metadata": {
    "execution": {
     "iopub.execute_input": "2022-03-27T17:12:49.413166Z",
     "iopub.status.busy": "2022-03-27T17:12:49.412899Z",
     "iopub.status.idle": "2022-03-27T17:12:49.417336Z",
     "shell.execute_reply": "2022-03-27T17:12:49.416210Z",
     "shell.execute_reply.started": "2022-03-27T17:12:49.413135Z"
    }
   },
   "outputs": [],
   "source": [
    "y = df['price']"
   ]
  },
  {
   "cell_type": "markdown",
   "metadata": {},
   "source": [
    "Предварительно удалим из датасета наименования моделей, так как ранее мы уже добавили столбец-бренд"
   ]
  },
  {
   "cell_type": "code",
   "execution_count": 74,
   "metadata": {
    "execution": {
     "iopub.execute_input": "2022-03-27T17:12:49.702029Z",
     "iopub.status.busy": "2022-03-27T17:12:49.701591Z",
     "iopub.status.idle": "2022-03-27T17:12:49.707532Z",
     "shell.execute_reply": "2022-03-27T17:12:49.706988Z",
     "shell.execute_reply.started": "2022-03-27T17:12:49.701983Z"
    }
   },
   "outputs": [],
   "source": [
    "df.drop('name', axis=1, inplace=True)"
   ]
  },
  {
   "cell_type": "code",
   "execution_count": 75,
   "metadata": {
    "execution": {
     "iopub.execute_input": "2022-03-27T17:12:50.130140Z",
     "iopub.status.busy": "2022-03-27T17:12:50.129668Z",
     "iopub.status.idle": "2022-03-27T17:12:50.151407Z",
     "shell.execute_reply": "2022-03-27T17:12:50.150795Z",
     "shell.execute_reply.started": "2022-03-27T17:12:50.130093Z"
    }
   },
   "outputs": [],
   "source": [
    "datasets['A'] = df.drop('price', axis=1)\n",
    "datasets['B'] = df.drop(cat_cols, axis=1).drop('price', axis=1)\n",
    "datasets['C'] = pd.get_dummies(datasets['A'])"
   ]
  },
  {
   "cell_type": "code",
   "execution_count": 76,
   "metadata": {
    "execution": {
     "iopub.execute_input": "2022-03-27T17:12:50.535903Z",
     "iopub.status.busy": "2022-03-27T17:12:50.535471Z",
     "iopub.status.idle": "2022-03-27T17:12:50.550022Z",
     "shell.execute_reply": "2022-03-27T17:12:50.549177Z",
     "shell.execute_reply.started": "2022-03-27T17:12:50.535865Z"
    }
   },
   "outputs": [],
   "source": [
    "X_train = dict()\n",
    "X_test = dict()\n",
    "\n",
    "for dataset in datasets.keys():\n",
    "    \n",
    "    X_train[dataset], X_test[dataset], y_train, y_test = train_test_split(datasets[dataset], y, test_size=0.25, random_state=0)"
   ]
  },
  {
   "cell_type": "markdown",
   "metadata": {
    "pycharm": {
     "name": "#%% md\n"
    }
   },
   "source": [
    "Итак, кажется, что у нас всё готово для того, чтобы начать искать ответы на волнующие нас вопросы. Начнем со столь любимой нами библиотеки, а именно...\n",
    "\n",
    "## Градиентный бустинг со sklearn\n",
    "\n",
    "Естественно, в sklearn имеется реализация градиентного бустинга, которая хранится в sklearn.ensemble.GradientBoostingRegressor. Преимущественно данным классом пользуются в учебных заданиях, поскольку в реальных задачах предпочтение отдаётся другим библиотекам. Давайте попробуем понять, заслуженно ли градиентный бустинг в sklearn не пользуется популярностью.\n",
    "\n",
    "FYI: в sklearn имеется также реализация GradientBoostingClassifier для задач классификации, но пользоваться им мы сегодня не будем.\n",
    "\n",
    "GradientBoostingRegressor из коробки не умеет работать с категориальными признаками. Мы к этому уже подготовились, закодировав наши признаки.\n",
    "\n",
    "### **Задание 2 (кросс-проверка, 2 балла)**:\n",
    "\n",
    "**Данные**: датасет со стоимостью поддержанных автомобилей    \n",
    "**Метрика**: MAE    \n",
    "**Цели**: В данном задании следует выполнить следующие пункты:    \n",
    "1. Обучить sklearn.ensemble.GradientBoostingRegressor на датасетах B и C, используя параметры n_estimators=1000, max_depth=5, learning_rate=0.1 (наши `test_parameters`). Замерьте время обучения, получите предсказания данных моделей на тестовом множестве.\n",
    "2. Обучить sklearn.ensemble.GradientBoostingRegressor на датасете B (можно и на C, если позволяют вычислительные ресурсы), используя кросс-валидацию на тренировочном множестве и подбирая значения для параметров n_estimators, learning_rate и max_depth. для простоты можете воспользоваться GridSearchCV. При необходимости можно оптимизировать параметры по одному, а не все сразу. Выведите лучшие параметры. Получите предсказания лучшей модели (с лучшими параметрами) на тестовом множестве. Для ускорения процесса не забудьте воспользоваться n_jobs.\n",
    "3. Посчитать MAE для полученных предсказаний на тренировочном и тестовом множествах (можно воспользоваться sklearn.metrics.mean_absolute_error).\n",
    "5. Вывести результаты и время в таблице DataFrame.\n",
    "4. Сделайте выводы. Оцените полезность категориальных переменных и поиска оптимальных параметров. Оцените время, затраченное на обучение. Попробуйте дать оценку получившемуся MAE: оно большое или маленькое?\n"
   ]
  },
  {
   "cell_type": "code",
   "execution_count": null,
   "metadata": {
    "pycharm": {
     "name": "#%%\n"
    }
   },
   "outputs": [],
   "source": [
    "df_skl = pd.DataFrame(columns=['Dataset', 'Parameters', 'Time', 'MAE'])"
   ]
  },
  {
   "cell_type": "code",
   "execution_count": null,
   "metadata": {
    "execution": {
     "iopub.execute_input": "2022-03-26T22:44:49.528412Z",
     "iopub.status.busy": "2022-03-26T22:44:49.528104Z",
     "iopub.status.idle": "2022-03-26T22:44:57.995004Z",
     "shell.execute_reply": "2022-03-26T22:44:57.994294Z",
     "shell.execute_reply.started": "2022-03-26T22:44:49.528379Z"
    }
   },
   "outputs": [],
   "source": [
    "key = 'B'\n",
    "\n",
    "start = time.time()\n",
    "gbr = GradientBoostingRegressor(n_estimators=1000, max_depth=5, learning_rate=0.1).fit(X_train[key], y_train)\n",
    "finish = time.time()\n",
    "\n",
    "print(finish - start)"
   ]
  },
  {
   "cell_type": "code",
   "execution_count": null,
   "metadata": {
    "execution": {
     "iopub.execute_input": "2022-03-26T22:44:57.99756Z",
     "iopub.status.busy": "2022-03-26T22:44:57.996433Z",
     "iopub.status.idle": "2022-03-26T22:44:58.035424Z",
     "shell.execute_reply": "2022-03-26T22:44:58.034466Z",
     "shell.execute_reply.started": "2022-03-26T22:44:57.997503Z"
    }
   },
   "outputs": [],
   "source": [
    "y_pred = gbr.predict(X_test[key])\n",
    "mean_absolute_error(y_pred, y_test)"
   ]
  },
  {
   "cell_type": "markdown",
   "metadata": {},
   "source": [
    "Время обучения на датасете без категориальных признаков и OHE для дефолтного бустинга составило 8.42 секунд, а ошибка - 123473, что довольно много, так как mse для этой же модели превышал бы значение 10^10"
   ]
  },
  {
   "cell_type": "code",
   "execution_count": null,
   "metadata": {
    "execution": {
     "iopub.execute_input": "2022-03-26T22:44:58.037644Z",
     "iopub.status.busy": "2022-03-26T22:44:58.036787Z",
     "iopub.status.idle": "2022-03-26T22:45:14.253185Z",
     "shell.execute_reply": "2022-03-26T22:45:14.25208Z",
     "shell.execute_reply.started": "2022-03-26T22:44:58.037604Z"
    }
   },
   "outputs": [],
   "source": [
    "key = 'C'\n",
    "\n",
    "start = time.time()\n",
    "gbr = GradientBoostingRegressor(n_estimators=1000, max_depth=5, learning_rate=0.1).fit(X_train[key], y_train)\n",
    "finish = time.time()\n",
    "\n",
    "print(finish - start)"
   ]
  },
  {
   "cell_type": "code",
   "execution_count": null,
   "metadata": {
    "execution": {
     "iopub.execute_input": "2022-03-26T22:45:14.256087Z",
     "iopub.status.busy": "2022-03-26T22:45:14.255738Z",
     "iopub.status.idle": "2022-03-26T22:45:14.296191Z",
     "shell.execute_reply": "2022-03-26T22:45:14.295147Z",
     "shell.execute_reply.started": "2022-03-26T22:45:14.256042Z"
    }
   },
   "outputs": [],
   "source": [
    "y_pred = gbr.predict(X_test[key])\n",
    "mean_absolute_error(y_pred, y_test)"
   ]
  },
  {
   "cell_type": "code",
   "execution_count": null,
   "metadata": {
    "execution": {
     "iopub.execute_input": "2022-03-26T22:46:07.685104Z",
     "iopub.status.busy": "2022-03-26T22:46:07.684183Z",
     "iopub.status.idle": "2022-03-26T22:46:07.691777Z",
     "shell.execute_reply": "2022-03-26T22:46:07.69077Z",
     "shell.execute_reply.started": "2022-03-26T22:46:07.685054Z"
    }
   },
   "outputs": [],
   "source": [
    "parameters = {'max_depth': [3, 5, 6, 10, 15, 20],\n",
    "           'learning_rate': [0.01, 0.1, 0.2, 0.3],\n",
    "           'n_estimators': [100, 500, 1000]}"
   ]
  },
  {
   "cell_type": "code",
   "execution_count": null,
   "metadata": {
    "execution": {
     "iopub.execute_input": "2022-03-26T22:46:08.903407Z",
     "iopub.status.busy": "2022-03-26T22:46:08.903084Z",
     "iopub.status.idle": "2022-03-26T22:46:08.908082Z",
     "shell.execute_reply": "2022-03-26T22:46:08.907279Z",
     "shell.execute_reply.started": "2022-03-26T22:46:08.903373Z"
    }
   },
   "outputs": [],
   "source": [
    "key = 'B'\n",
    "grid = dict()\n",
    "gbr = GradientBoostingRegressor()"
   ]
  },
  {
   "cell_type": "markdown",
   "metadata": {},
   "source": [
    "При обучении на датасете с OHE с заранее известными тестовыми параметрами время обучения увеличивается в два раза, однако ошибка становится на порядок меньше (а это два порядка mse)"
   ]
  },
  {
   "cell_type": "code",
   "execution_count": null,
   "metadata": {
    "execution": {
     "iopub.execute_input": "2022-03-26T22:46:09.273381Z",
     "iopub.status.busy": "2022-03-26T22:46:09.272922Z",
     "iopub.status.idle": "2022-03-26T23:00:44.707081Z",
     "shell.execute_reply": "2022-03-26T23:00:44.705767Z",
     "shell.execute_reply.started": "2022-03-26T22:46:09.273345Z"
    }
   },
   "outputs": [],
   "source": [
    "start = time.time()\n",
    "\n",
    "grid[key] = GridSearchCV(estimator=gbr, \n",
    "                         param_grid=parameters, \n",
    "                         scoring='neg_mean_absolute_error', \n",
    "                         n_jobs=-1)\n",
    "grid[key].fit(X_train[key], y_train)\n",
    "\n",
    "finish = time.time()"
   ]
  },
  {
   "cell_type": "code",
   "execution_count": null,
   "metadata": {
    "execution": {
     "iopub.execute_input": "2022-03-26T23:00:44.709693Z",
     "iopub.status.busy": "2022-03-26T23:00:44.70939Z",
     "iopub.status.idle": "2022-03-26T23:00:44.715344Z",
     "shell.execute_reply": "2022-03-26T23:00:44.714186Z",
     "shell.execute_reply.started": "2022-03-26T23:00:44.709647Z"
    }
   },
   "outputs": [],
   "source": [
    "times = (finish - start) // 60"
   ]
  },
  {
   "cell_type": "code",
   "execution_count": null,
   "metadata": {
    "execution": {
     "iopub.execute_input": "2022-03-26T23:00:44.717433Z",
     "iopub.status.busy": "2022-03-26T23:00:44.716706Z",
     "iopub.status.idle": "2022-03-26T23:00:44.751279Z",
     "shell.execute_reply": "2022-03-26T23:00:44.750348Z",
     "shell.execute_reply.started": "2022-03-26T23:00:44.717394Z"
    }
   },
   "outputs": [],
   "source": [
    "mae = mean_absolute_error(grid[key].predict(X_test[key]), y_test)"
   ]
  },
  {
   "cell_type": "code",
   "execution_count": null,
   "metadata": {
    "execution": {
     "iopub.execute_input": "2022-03-26T23:00:44.754117Z",
     "iopub.status.busy": "2022-03-26T23:00:44.753266Z",
     "iopub.status.idle": "2022-03-26T23:00:44.758436Z",
     "shell.execute_reply": "2022-03-26T23:00:44.757489Z",
     "shell.execute_reply.started": "2022-03-26T23:00:44.754077Z"
    }
   },
   "outputs": [],
   "source": [
    "params = grid[key].best_params_"
   ]
  },
  {
   "cell_type": "code",
   "execution_count": null,
   "metadata": {
    "execution": {
     "iopub.execute_input": "2022-03-26T23:00:44.760883Z",
     "iopub.status.busy": "2022-03-26T23:00:44.760256Z",
     "iopub.status.idle": "2022-03-26T23:00:44.78102Z",
     "shell.execute_reply": "2022-03-26T23:00:44.779978Z",
     "shell.execute_reply.started": "2022-03-26T23:00:44.760835Z"
    }
   },
   "outputs": [],
   "source": [
    "df_skl.loc[0] = [key, params, times, mae]"
   ]
  },
  {
   "cell_type": "code",
   "execution_count": null,
   "metadata": {
    "execution": {
     "iopub.execute_input": "2022-03-26T23:00:44.782748Z",
     "iopub.status.busy": "2022-03-26T23:00:44.782102Z",
     "iopub.status.idle": "2022-03-26T23:00:44.806553Z",
     "shell.execute_reply": "2022-03-26T23:00:44.805287Z",
     "shell.execute_reply.started": "2022-03-26T23:00:44.782712Z"
    }
   },
   "outputs": [],
   "source": [
    "df_skl"
   ]
  },
  {
   "cell_type": "markdown",
   "metadata": {},
   "source": [
    "Бустинг кросс-валидировался 15 "
   ]
  },
  {
   "cell_type": "code",
   "execution_count": null,
   "metadata": {
    "execution": {
     "iopub.execute_input": "2022-03-26T23:00:44.808131Z",
     "iopub.status.busy": "2022-03-26T23:00:44.807873Z",
     "iopub.status.idle": "2022-03-26T23:30:16.021618Z",
     "shell.execute_reply": "2022-03-26T23:30:16.020486Z",
     "shell.execute_reply.started": "2022-03-26T23:00:44.8081Z"
    }
   },
   "outputs": [],
   "source": [
    "key = 'C'\n",
    "\n",
    "start = time.time()\n",
    "\n",
    "grid[key] = GridSearchCV(estimator=gbr, \n",
    "                         param_grid=parameters, \n",
    "                         scoring='neg_mean_absolute_error', \n",
    "                         n_jobs=-1)\n",
    "grid[key].fit(X_train[key], y_train)\n",
    "\n",
    "finish = time.time()"
   ]
  },
  {
   "cell_type": "code",
   "execution_count": null,
   "metadata": {
    "execution": {
     "iopub.execute_input": "2022-03-26T23:30:16.023647Z",
     "iopub.status.busy": "2022-03-26T23:30:16.023275Z",
     "iopub.status.idle": "2022-03-26T23:30:16.05965Z",
     "shell.execute_reply": "2022-03-26T23:30:16.058595Z",
     "shell.execute_reply.started": "2022-03-26T23:30:16.0236Z"
    }
   },
   "outputs": [],
   "source": [
    "times = (finish - start) // 60\n",
    "mae = mean_absolute_error(grid[key].predict(X_test[key]), y_test)\n",
    "params = grid[key].best_params_\n",
    "df_skl.loc[1] = [key, params, times, mae]"
   ]
  },
  {
   "cell_type": "code",
   "execution_count": null,
   "metadata": {
    "execution": {
     "iopub.execute_input": "2022-03-27T00:51:46.299652Z",
     "iopub.status.busy": "2022-03-27T00:51:46.298822Z",
     "iopub.status.idle": "2022-03-27T00:51:46.305773Z",
     "shell.execute_reply": "2022-03-27T00:51:46.304786Z",
     "shell.execute_reply.started": "2022-03-27T00:51:46.299614Z"
    }
   },
   "outputs": [],
   "source": [
    "df_skl.to_csv('skl.csv', index=False)"
   ]
  },
  {
   "cell_type": "code",
   "execution_count": null,
   "metadata": {
    "execution": {
     "iopub.execute_input": "2022-03-27T00:51:49.749553Z",
     "iopub.status.busy": "2022-03-27T00:51:49.74923Z",
     "iopub.status.idle": "2022-03-27T00:51:49.761666Z",
     "shell.execute_reply": "2022-03-27T00:51:49.760906Z",
     "shell.execute_reply.started": "2022-03-27T00:51:49.749512Z"
    }
   },
   "outputs": [],
   "source": [
    "df_skl"
   ]
  },
  {
   "cell_type": "markdown",
   "metadata": {},
   "source": [
    "И так, sklearn предлагает нам привычный и простой способ тренировки моделей. Однако, для градиентного бустинга существует множество эвристик и трюков, помогающих улучшить результаты. И одна из библиотек, реализующая улучшенную версию бустинга, называется xgboost.\n",
    "\n",
    "## Градиентный бустинг с XGBoost\n",
    "\n",
    "XGBoost стала достаточно популярной библиотекой, которая позволяет добиться хороших результатов без особых усилий (во всяком случае, так гласят легенды). И у нас для вас две новости: хорошая и плохая. Хорошая – xgboost, хоть и является сторонней библиотекой, сохраняет интерфейс sklearn и даже прекрасно работает с GridSearchCV. Плохая – она тоже не умеет из коробки работать с категориальными признаками. Ну что же, давайте пощупаем это безобразие. На этот раз нас интересует класс xgboost.XGBRegressor.\n",
    "\n",
    "Update: относительно недавно в xgboost появилась экспериментальная поддержка категориальных переменных, которая еще не добавлена в стабильную версию, поэтому ею мы пользоваться пока не будем.\n",
    "\n",
    "### Задание 3 (кросс-проверка, 2 балла):\n",
    "**Данные**: датасет со стоимостью поддержанных автомобилей  \n",
    "**Метрика**: MAE  \n",
    "**Цели**: В данном задании следует выполнить следующие пункты:  \n",
    "1. Обучить xgboost.XGBRegressor на датасетах B и C, используя параметры n_estimators=1000, max_depth=5, learning_rate=0.1 (наши `test_parameters`). Замерьте время обучения. Получите предсказания данных моделей на тестовом множестве.\n",
    "2. Обучить xgboost.XGBRegressor на датасетах B и C, используя кросс-валидацию на тренировочном множестве и подбирая значения для параметров n_estimators, learning_rate и max_depth (для простоты можете воспользоваться GridSearchCV). При необходимости можно оптимизировать параметры по одному, а не все сразу. Замерьте время перебора, получите предсказания лучшей модели (с лучшими параметрами) на тестовом множестве. В этом случае устанавливать n_jobs у GridSearchCV не рекомендую, поскольку xgboost сам умеет захватывать все доступные ресурсы, и если GridSearchCV начнет их размножать, то последствия будут печальны.\n",
    "3. Посчитать MAE для полученных предсказаний на тренировочном и тестовом множествах (можно воспользоваться sklearn.metrics.mean_absolute_error).\n",
    "1. Выведите результаты и время в таблице DataFrame.\n",
    "4. Сделайте выводы. Оцените полезность категориальных переменных и поиска оптимальных параметров. Оцените время, затраченное на обучение. Сравните результаты со sklearn."
   ]
  },
  {
   "cell_type": "code",
   "execution_count": null,
   "metadata": {
    "execution": {
     "iopub.execute_input": "2022-03-26T23:30:16.076773Z",
     "iopub.status.busy": "2022-03-26T23:30:16.076171Z",
     "iopub.status.idle": "2022-03-26T23:30:16.09441Z",
     "shell.execute_reply": "2022-03-26T23:30:16.093593Z",
     "shell.execute_reply.started": "2022-03-26T23:30:16.07673Z"
    },
    "pycharm": {
     "name": "#%%\n"
    }
   },
   "outputs": [],
   "source": [
    "df_xgb = pd.DataFrame(columns=['Dataset', 'Parameters', 'Time', 'MAE'])"
   ]
  },
  {
   "cell_type": "markdown",
   "metadata": {},
   "source": [
    "Здесь и далее для валидации будет использован RandomizedSearchCV вместо обычного гридсерча, так как это значительно ускоряет процесс подбора гиперпараметров, в общем случае не сильно сказывается на качестве обучения, а также не противоречит самому заданию"
   ]
  },
  {
   "cell_type": "code",
   "execution_count": null,
   "metadata": {
    "execution": {
     "iopub.execute_input": "2022-03-26T23:30:16.096272Z",
     "iopub.status.busy": "2022-03-26T23:30:16.095652Z",
     "iopub.status.idle": "2022-03-26T23:30:16.108132Z",
     "shell.execute_reply": "2022-03-26T23:30:16.107291Z",
     "shell.execute_reply.started": "2022-03-26T23:30:16.096225Z"
    }
   },
   "outputs": [],
   "source": [
    "# сетка взята с туториала kaggle\n",
    "parameters = {'max_depth': [3, 5, 6, 10, 15, 20],\n",
    "           'learning_rate': [0.01, 0.1, 0.2, 0.3],\n",
    "           'n_estimators': [100, 500, 1000]}"
   ]
  },
  {
   "cell_type": "code",
   "execution_count": null,
   "metadata": {
    "execution": {
     "iopub.execute_input": "2022-03-26T23:34:06.433277Z",
     "iopub.status.busy": "2022-03-26T23:34:06.432786Z",
     "iopub.status.idle": "2022-03-26T23:56:47.817269Z",
     "shell.execute_reply": "2022-03-26T23:56:47.8164Z",
     "shell.execute_reply.started": "2022-03-26T23:34:06.433241Z"
    }
   },
   "outputs": [],
   "source": [
    "key = 'B'\n",
    "\n",
    "xgb = XGBRegressor()\n",
    "\n",
    "start = time.time()\n",
    "\n",
    "rscv = GridSearchCV(estimator=xgb,\n",
    "                  param_grid=parameters,\n",
    "                  scoring='neg_mean_absolute_error',\n",
    "                 )\n",
    "rscv.fit(X_train[key], y_train)\n",
    "\n",
    "finish = time.time()"
   ]
  },
  {
   "cell_type": "code",
   "execution_count": null,
   "metadata": {
    "execution": {
     "iopub.execute_input": "2022-03-26T23:56:47.819275Z",
     "iopub.status.busy": "2022-03-26T23:56:47.819029Z",
     "iopub.status.idle": "2022-03-26T23:56:47.848619Z",
     "shell.execute_reply": "2022-03-26T23:56:47.847568Z",
     "shell.execute_reply.started": "2022-03-26T23:56:47.819245Z"
    }
   },
   "outputs": [],
   "source": [
    "times = (finish - start) // 60\n",
    "mae = mean_absolute_error(rscv.predict(X_test[key]), y_test)\n",
    "params = rscv.best_params_\n",
    "df_xgb.loc[0] = [key, params, times, mae]"
   ]
  },
  {
   "cell_type": "code",
   "execution_count": null,
   "metadata": {
    "execution": {
     "iopub.execute_input": "2022-03-26T23:56:47.850616Z",
     "iopub.status.busy": "2022-03-26T23:56:47.850282Z",
     "iopub.status.idle": "2022-03-26T23:56:47.863927Z",
     "shell.execute_reply": "2022-03-26T23:56:47.862941Z",
     "shell.execute_reply.started": "2022-03-26T23:56:47.850575Z"
    }
   },
   "outputs": [],
   "source": [
    "df_xgb"
   ]
  },
  {
   "cell_type": "code",
   "execution_count": null,
   "metadata": {
    "execution": {
     "iopub.execute_input": "2022-03-26T23:56:47.867209Z",
     "iopub.status.busy": "2022-03-26T23:56:47.866658Z",
     "iopub.status.idle": "2022-03-27T00:49:36.235776Z",
     "shell.execute_reply": "2022-03-27T00:49:36.234258Z",
     "shell.execute_reply.started": "2022-03-26T23:56:47.867161Z"
    }
   },
   "outputs": [],
   "source": [
    "key = 'C'\n",
    "\n",
    "start = time.time()\n",
    "\n",
    "rscv_c = GridSearchCV(estimator=xgb,\n",
    "                            param_grid=parameters,\n",
    "                            scoring='neg_mean_absolute_error')\n",
    "rscv_c.fit(X_train[key], y_train)\n",
    "\n",
    "finish = time.time()"
   ]
  },
  {
   "cell_type": "code",
   "execution_count": null,
   "metadata": {
    "execution": {
     "iopub.execute_input": "2022-03-27T00:49:36.23788Z",
     "iopub.status.busy": "2022-03-27T00:49:36.237654Z",
     "iopub.status.idle": "2022-03-27T00:49:36.276707Z",
     "shell.execute_reply": "2022-03-27T00:49:36.275987Z",
     "shell.execute_reply.started": "2022-03-27T00:49:36.237852Z"
    }
   },
   "outputs": [],
   "source": [
    "times = (finish - start) // 60\n",
    "mae = mean_absolute_error(rscv_c.predict(X_test[key]), y_test)\n",
    "params = rscv_c.best_params_\n",
    "df_xgb.loc[1] = [key, params, times, mae]"
   ]
  },
  {
   "cell_type": "code",
   "execution_count": null,
   "metadata": {
    "execution": {
     "iopub.execute_input": "2022-03-27T00:49:36.279289Z",
     "iopub.status.busy": "2022-03-27T00:49:36.278618Z",
     "iopub.status.idle": "2022-03-27T00:49:36.296495Z",
     "shell.execute_reply": "2022-03-27T00:49:36.295808Z",
     "shell.execute_reply.started": "2022-03-27T00:49:36.279227Z"
    }
   },
   "outputs": [],
   "source": [
    "df_xgb"
   ]
  },
  {
   "cell_type": "code",
   "execution_count": null,
   "metadata": {
    "execution": {
     "iopub.execute_input": "2022-03-27T01:04:03.722104Z",
     "iopub.status.busy": "2022-03-27T01:04:03.721385Z",
     "iopub.status.idle": "2022-03-27T01:04:03.728188Z",
     "shell.execute_reply": "2022-03-27T01:04:03.727398Z",
     "shell.execute_reply.started": "2022-03-27T01:04:03.722061Z"
    }
   },
   "outputs": [],
   "source": [
    "df_xgb.to_csv('xgb.csv', index=False)"
   ]
  },
  {
   "cell_type": "markdown",
   "metadata": {},
   "source": [
    "**Ваши выводы:**"
   ]
  },
  {
   "cell_type": "markdown",
   "metadata": {
    "pycharm": {
     "name": "#%% md\n"
    }
   },
   "source": [
    "Таким вот несложным образом нам удалось воспользоваться еще одной библиотекой. Давайте перейдем к третьей библиотеке, которую мы сегодня изучим, и называется она lightgbm.\n",
    "\n",
    "## Градиентный бустинг в lightgbm\n",
    "\n",
    "Про Lightgbm легенды гласят, что она очень быстрая и легкая: что самый большой датасет она без проблем переварит за относительно небольшое время. А еще её разрабатывали не хухры кто, а сами мелкомягкие, так что попробовать её определённо стоит. На этот раз у нас вновь две новости, две хороших и две плохих. Первая хорошая — lightgbm тоже работает с GridSearchCV. Вторая хорошая — lightgbm умеет из коробки работать с категориальными признаками! Плохая — делает она это немного нетривиально (не зря я просил вас запомнить категориальные переменные!). Вторая плохая — да, нам придётся этим пользоваться.\n",
    "\n",
    "Внимание! LightGBM может писать сотню радостных сообщений о том, что он увидел ваши categorical_feature и использует их. При желании можете заглушать эти оповещения, ибо в случае перебора параметров их становится слишком много. (заклинание для заглушения: `warnings.filterwarnings(\"ignore\")`)\n",
    "\n",
    "### Задание 4 (кросс-проверка, 3 балла):\n",
    "**Данные**: датасет со стоимостью поддержанных автомобилей  \n",
    "**Метрика**: MAE  \n",
    "**Цели**: В данном задании следует выполнить следующие пункты:  \n",
    "1. В случае датасета, сохраненном в numpy, lightgbm требует, чтобы категории были закодированы целыми числами от 0 до числа признаков(e.g. ['a', 'b', 'a'] -> [0, 1, 0]). Сделайте это для датасета A. Если вы используете pandas, то для датасета A достаточно установить соответствующие столбцы типа \"категория\", тогда categorical_feature='auto' сам всё подхватит.\n",
    "2. Обучить lightgbm.LGBMRegressor на датасетах A, B и C, используя параметры используя параметры n_estimators=1000, max_depth=5, learning_rate=0.1. В случае датасета A, передайте в функцию fit индексы/имена категориальных признаков. Замерьте время обучения, получите предсказания данных моделей на тестовом множестве.\n",
    "3. Обучить lightgbm.LGBMRegressor на датасетах A, B и C, используя кросс-валидацию на тренировочном множестве и подбирая значения для параметров n_estimators, learning_rate и max_depth (для простоты можете воспользоваться GridSearchCV). Замерьте время, потраченное на поиск оптимальных параметров(вновь не советую использовать n_jobs). Замерьте время перебора, получите предсказания лучшей модели (с лучшими параметрами) на тестовом множестве.\n",
    "4. Посчитать MAE для полученных предсказаний на тренировочном и тестовом множествах (можно воспользоваться sklearn.metrics.mean_absolute_error). Сделайте выводы и полезности использования категориальных переменных и поиска оптимальных параметров.\n",
    "5. Вывести результаты и время в таблице DataFrame."
   ]
  },
  {
   "cell_type": "code",
   "execution_count": 77,
   "metadata": {
    "execution": {
     "iopub.execute_input": "2022-03-27T17:13:03.307353Z",
     "iopub.status.busy": "2022-03-27T17:13:03.306574Z",
     "iopub.status.idle": "2022-03-27T17:13:03.313190Z",
     "shell.execute_reply": "2022-03-27T17:13:03.312648Z",
     "shell.execute_reply.started": "2022-03-27T17:13:03.307316Z"
    },
    "pycharm": {
     "name": "#%%\n"
    }
   },
   "outputs": [],
   "source": [
    "import warnings\n",
    "warnings.filterwarnings(\"ignore\")\n",
    "\n",
    "df_lightgbm = pd.DataFrame(columns=['Dataset', 'Parameters', 'Time', 'MAE'])"
   ]
  },
  {
   "cell_type": "code",
   "execution_count": 78,
   "metadata": {
    "execution": {
     "iopub.execute_input": "2022-03-27T17:13:03.479636Z",
     "iopub.status.busy": "2022-03-27T17:13:03.479046Z",
     "iopub.status.idle": "2022-03-27T17:13:03.484197Z",
     "shell.execute_reply": "2022-03-27T17:13:03.483108Z",
     "shell.execute_reply.started": "2022-03-27T17:13:03.479599Z"
    }
   },
   "outputs": [],
   "source": [
    "keys = ['A', 'B', 'C']"
   ]
  },
  {
   "cell_type": "code",
   "execution_count": null,
   "metadata": {
    "execution": {
     "iopub.execute_input": "2022-03-27T17:07:30.726585Z",
     "iopub.status.busy": "2022-03-27T17:07:30.726204Z",
     "iopub.status.idle": "2022-03-27T17:07:30.736998Z",
     "shell.execute_reply": "2022-03-27T17:07:30.736307Z",
     "shell.execute_reply.started": "2022-03-27T17:07:30.726542Z"
    }
   },
   "outputs": [],
   "source": [
    "# сетка взята из kaggle туториала \n",
    "parameters ={'max_depth': [3, 5, 6, 10, 15, 20],\n",
    "            'learning_rate': [0.01, 0.1, 0.2, 0.3],\n",
    "            'num_leaves': [10, 20, 30, 50, 70, 100]\n",
    "            }"
   ]
  },
  {
   "cell_type": "code",
   "execution_count": 79,
   "metadata": {
    "execution": {
     "iopub.execute_input": "2022-03-27T17:13:06.582134Z",
     "iopub.status.busy": "2022-03-27T17:13:06.581870Z",
     "iopub.status.idle": "2022-03-27T17:13:06.676015Z",
     "shell.execute_reply": "2022-03-27T17:13:06.675133Z",
     "shell.execute_reply.started": "2022-03-27T17:13:06.582104Z"
    }
   },
   "outputs": [],
   "source": [
    "X_train_lgb = dict()\n",
    "X_test_lgb = dict()\n",
    "\n",
    "for key in keys:\n",
    "    \n",
    "    X_train_lgb[key] = X_train[key].copy()\n",
    "    X_test_lgb[key] = X_test[key].copy()\n",
    "\n",
    "for col in cat_cols:\n",
    "    for tup in list(zip(df[col].unique(), np.arange(df[col].nunique()))):\n",
    "        \n",
    "        X_train_lgb['A'][col] = np.where(X_train_lgb['A'][col] == tup[0], tup[1], X_train_lgb['A'][col])\n",
    "        X_test_lgb['A'][col] = np.where(X_test_lgb['A'][col] == tup[0], tup[1], X_test_lgb['A'][col])"
   ]
  },
  {
   "cell_type": "code",
   "execution_count": 80,
   "metadata": {
    "execution": {
     "iopub.execute_input": "2022-03-27T17:13:08.551893Z",
     "iopub.status.busy": "2022-03-27T17:13:08.551318Z",
     "iopub.status.idle": "2022-03-27T17:13:08.555561Z",
     "shell.execute_reply": "2022-03-27T17:13:08.554807Z",
     "shell.execute_reply.started": "2022-03-27T17:13:08.551848Z"
    }
   },
   "outputs": [],
   "source": [
    "fit_params = {'categorical_feature': cat_indexes}"
   ]
  },
  {
   "cell_type": "code",
   "execution_count": null,
   "metadata": {
    "execution": {
     "iopub.execute_input": "2022-03-27T16:24:43.377925Z",
     "iopub.status.busy": "2022-03-27T16:24:43.377286Z",
     "iopub.status.idle": "2022-03-27T16:28:44.13076Z",
     "shell.execute_reply": "2022-03-27T16:28:44.129998Z",
     "shell.execute_reply.started": "2022-03-27T16:24:43.377872Z"
    }
   },
   "outputs": [],
   "source": [
    "it = 0\n",
    "rscv_lgb = dict()\n",
    "\n",
    "for key in keys:\n",
    "    \n",
    "    X_train_lgb[key] = np.array(X_train_lgb[key])\n",
    "    X_test_lgb[key] = np.array(X_test_lgb[key])\n",
    "    \n",
    "    lgb = LGBMRegressor(random_state=0, verbose=-1)\n",
    "    \n",
    "    start = time.time()\n",
    "\n",
    "    rscv_lgb[key] = GridSearchCV(estimator=lgb,\n",
    "                                 param_grid=parameters,\n",
    "                                 scoring='neg_mean_absolute_error',\n",
    "                                 verbose=-1\n",
    "                                )\n",
    "    \n",
    "    rscv_lgb[key].fit(X_train_lgb[key], y_train, **fit_params)\n",
    "\n",
    "    finish = time.time()\n",
    "    \n",
    "    times = (finish - start) // 60\n",
    "    mae = mean_absolute_error(rscv_lgb[key].predict(X_test_lgb[key]), y_test)\n",
    "    params = rscv_lgb[key].best_params_\n",
    "    \n",
    "    df_lightgbm.loc[it] = [key, params, times, mae]\n",
    "    it += 1\n",
    "    "
   ]
  },
  {
   "cell_type": "code",
   "execution_count": null,
   "metadata": {
    "execution": {
     "iopub.execute_input": "2022-03-27T16:29:26.645065Z",
     "iopub.status.busy": "2022-03-27T16:29:26.644085Z",
     "iopub.status.idle": "2022-03-27T16:29:26.659812Z",
     "shell.execute_reply": "2022-03-27T16:29:26.658399Z",
     "shell.execute_reply.started": "2022-03-27T16:29:26.645012Z"
    }
   },
   "outputs": [],
   "source": [
    "df_lightgbm"
   ]
  },
  {
   "cell_type": "code",
   "execution_count": null,
   "metadata": {
    "execution": {
     "iopub.execute_input": "2022-03-27T16:28:44.149016Z",
     "iopub.status.busy": "2022-03-27T16:28:44.148625Z",
     "iopub.status.idle": "2022-03-27T16:28:44.155055Z",
     "shell.execute_reply": "2022-03-27T16:28:44.154395Z",
     "shell.execute_reply.started": "2022-03-27T16:28:44.148985Z"
    }
   },
   "outputs": [],
   "source": [
    "df_lightgbm.to_csv('lightgbm.csv', index=False)"
   ]
  },
  {
   "cell_type": "markdown",
   "metadata": {
    "pycharm": {
     "name": "#%% md\n"
    }
   },
   "source": [
    "Как вы видите, иногда можно не возиться с OHE, а позволить библиотекам самим это сделать (хотя иногда при этом приходится повозиться с самими данными, чтобы библиотека съела данные).\n",
    "\n",
    "Итак, мы с вами почти стали мастерами градиентного бустинга. Переходим к последней звезде нашего хит-парада.\n",
    "\n"
   ]
  },
  {
   "cell_type": "markdown",
   "metadata": {
    "pycharm": {
     "name": "#%% md\n"
    }
   },
   "source": [
    "## Градиентный бустинг в catboost\n",
    "\n",
    "Библиотека, созданная в тёмных подвалах яндекса. По легендам эта библиотека умеет работать с категориальными данными, быстрая, эффективная, легко настраивается, из коробки понимает текстовые признаки в задачах классификации и спасла Брюса Уиллиса. Давайте проверим.\n",
    "Вас, наверное, не удивить тем, что эта библиотека работает с GridSearchCV, но им мы пользоваться не будем. В catboost существует своя реализация перебора параметров, и мы попробуем им воспользоваться (ура, разнообразие!). В качестве регрессора нас интересует catboost.CatBoostRegressor.\n",
    "\n",
    "Внимание! Эта библиотека еще более болтлива, чем lightgbm, но это (почти) полностью лечится с помощью verbose. К сожалению, отключением warnings её не сделать молчаливее. А еще эта библиотека может неожиданно создать вам парочку новых папок.\n",
    "\n",
    "### Задание 5 (кросс-проверка, 3 балла):\n",
    "**Данные**: датасет со стоимостью поддержанных автомобилей  \n",
    "**Метрика**: MAE  \n",
    "**Цели**: В данном задании следует выполнить следующие пункты:  \n",
    "1. Обучить catboost.CatBoostRegressor на датасетах A, B и C, используя параметры используя параметры n_estimators=1000, max_depth=5, learning_rate=0.1. В случае датасета A, передайте на вход методу fit/конструктору параметр cat_features, содержащий имена/индексы категориальных переменных. В данном случае переводить категории в целые числа, как мы делали для lightgbm, не нужно. Замерьте время обучения, получите предсказания данных моделей на тестовом множестве.\n",
    "2. Обучить catboost.CatBoostRegressor на датасетах A, B и C, используя метод grid_search (является методом экземпляра класса CatBoostRegressor). Замерьте время, потраченное на поиск оптимальных параметров. Замерьте время перебора, получите предсказания лучшей модели (с лучшими параметрами) на тестовом множестве.\n",
    "3. Посчитать MAE для полученных предсказаний на тренировочном и тестовом множествах (можно воспользоваться sklearn.metrics.mean_absolute_error).\n",
    "4. Сделайте выводы и полезности использования категориальных переменных и поиска оптимальных параметров.\n",
    "5. Вывести результаты и время в таблице DataFrame.\n"
   ]
  },
  {
   "cell_type": "code",
   "execution_count": null,
   "metadata": {
    "execution": {
     "iopub.execute_input": "2022-03-27T14:35:48.937403Z",
     "iopub.status.busy": "2022-03-27T14:35:48.937006Z",
     "iopub.status.idle": "2022-03-27T14:35:48.945588Z",
     "shell.execute_reply": "2022-03-27T14:35:48.944403Z",
     "shell.execute_reply.started": "2022-03-27T14:35:48.937361Z"
    },
    "pycharm": {
     "name": "#%%\n"
    }
   },
   "outputs": [],
   "source": [
    "df_catboost = pd.DataFrame(columns=['Dataset', 'Parameters', 'Time', 'MAE'])"
   ]
  },
  {
   "cell_type": "code",
   "execution_count": null,
   "metadata": {
    "execution": {
     "iopub.execute_input": "2022-03-27T14:58:48.193406Z",
     "iopub.status.busy": "2022-03-27T14:58:48.192982Z",
     "iopub.status.idle": "2022-03-27T14:58:48.199939Z",
     "shell.execute_reply": "2022-03-27T14:58:48.19886Z",
     "shell.execute_reply.started": "2022-03-27T14:58:48.193364Z"
    }
   },
   "outputs": [],
   "source": [
    "parameters = {'learning_rate': [0.01, 0.1, 0.2, 0.3],\n",
    "              'depth': [3, 5, 6, 10, 15, 20],\n",
    "              'iterations': [10, 20, 30, 50, 70, 90]\n",
    "             }"
   ]
  },
  {
   "cell_type": "code",
   "execution_count": null,
   "metadata": {
    "execution": {
     "iopub.execute_input": "2022-03-27T14:59:38.236079Z",
     "iopub.status.busy": "2022-03-27T14:59:38.235369Z",
     "iopub.status.idle": "2022-03-27T15:05:10.868446Z",
     "shell.execute_reply": "2022-03-27T15:05:10.867105Z",
     "shell.execute_reply.started": "2022-03-27T14:59:38.23603Z"
    }
   },
   "outputs": [],
   "source": [
    "it = 0\n",
    "rscv_cat = dict()\n",
    "model = dict()\n",
    "params = []\n",
    "\n",
    "for key in keys:\n",
    "    \n",
    "    cat_features = None\n",
    "    if key == 'A':\n",
    "        cat_features = cat_cols\n",
    "        \n",
    "    model[key] = CatBoostRegressor(cat_features = cat_features, verbose=-1)\n",
    "    \n",
    "    start = time.time()\n",
    "\n",
    "    rscv_cat[key] = model[key].grid_search(parameters,\n",
    "                                 X=X_train[key],\n",
    "                                 y=y_train,\n",
    "                                )\n",
    "    \n",
    "    finish = time.time()\n",
    "    \n",
    "    times = (finish - start) // 60\n",
    "    mae = mean_absolute_error(model[key].predict(X_test[key]), y_test)\n",
    "    for param in parameters:\n",
    "        params.append(model[key].get_all_params()[param])\n",
    "    \n",
    "    df_catboost.loc[it] = [key, params, times, mae]\n",
    "    it += 1\n",
    "    "
   ]
  },
  {
   "cell_type": "code",
   "execution_count": null,
   "metadata": {
    "execution": {
     "iopub.status.busy": "2022-03-27T14:53:35.81738Z",
     "iopub.status.idle": "2022-03-27T14:53:35.818112Z",
     "shell.execute_reply": "2022-03-27T14:53:35.817927Z",
     "shell.execute_reply.started": "2022-03-27T14:53:35.817905Z"
    }
   },
   "outputs": [],
   "source": [
    "df_catboost"
   ]
  },
  {
   "cell_type": "code",
   "execution_count": null,
   "metadata": {
    "execution": {
     "iopub.status.busy": "2022-03-27T14:53:35.819404Z",
     "iopub.status.idle": "2022-03-27T14:53:35.819743Z",
     "shell.execute_reply": "2022-03-27T14:53:35.819588Z",
     "shell.execute_reply.started": "2022-03-27T14:53:35.819565Z"
    }
   },
   "outputs": [],
   "source": [
    "df_catboost.to_csv('catboost.csv', index=False)"
   ]
  },
  {
   "cell_type": "markdown",
   "metadata": {},
   "source": [
    "**Ваши выводы:**"
   ]
  },
  {
   "cell_type": "markdown",
   "metadata": {
    "pycharm": {
     "name": "#%% md\n"
    }
   },
   "source": [
    "И так, мы наконец познакомились со всеми библиотеками градиентного бустинга.\n",
    "\n",
    "## Обобщение результатов\n",
    "\n",
    "На текущем этапе у вас должно быть несколько датафреймов результатами по каждой библиотеке. Мы, конечно, сделали некоторые выводы, но пришло время собрать это в красивый отчет.\n",
    "\n",
    "### Задание 6 (кросс-проверка, 3 балла):\n",
    "**Данные**: датасет с ценами поддержанных автомобилей  \n",
    "**Цели**: В данном задании следует выполнить следующие пункты:  \n",
    "1. При помощи одного или нескольких графиков показать результаты различных библиотек: времени работы и качество результатов. Можете воспользоваться любым типом графиков: гистограммы, scatter и т.д. По этим графикам должно быть понятно какая библиотека и насколько быстрее, насколько различается их качество, сравнение оптимизированных и неоптимизированных параметров.\n",
    "2. По графикам сравните библиотеки, производительность и качество работы. Опишите ваши выводы ниже."
   ]
  },
  {
   "cell_type": "code",
   "execution_count": null,
   "metadata": {
    "pycharm": {
     "name": "#%%\n"
    }
   },
   "outputs": [],
   "source": [
    "# Your great pictures and conclusions below!"
   ]
  },
  {
   "cell_type": "markdown",
   "metadata": {
    "pycharm": {
     "name": "#%% md\n"
    }
   },
   "source": [
    "**Ваши выводы:**"
   ]
  },
  {
   "cell_type": "markdown",
   "metadata": {
    "pycharm": {
     "name": "#%% md\n"
    }
   },
   "source": [
    "## Оптимизация параметров с hyperopt\n",
    "\n",
    "И так, мы с вами научились пользоваться библиотеками для градиентного бустинга. И я почти уверен, что знаю вашу самую \"любимую\" часть всех этих заданий: оптимизация параметров. Она достаточно долгая, нудная, да еще и над сетками перебора нужно думать. Значит сейчас, когда вы поняли всю тяжесть этого процесса, мы можем узнать как относительно быстро и безболезненно нащупать оптимальные параметры!\n"
   ]
  },
  {
   "cell_type": "markdown",
   "metadata": {
    "pycharm": {
     "name": "#%% md\n"
    }
   },
   "source": [
    "[Эмоции выполняющего в этот момент.](https://disk.yandex.ru/i/qwkvBEFrWYoV9A)\n"
   ]
  },
  {
   "cell_type": "markdown",
   "metadata": {
    "pycharm": {
     "name": "#%% md\n"
    }
   },
   "source": [
    "Нашего спасителя зовут HyperOpt. На первый взгляд hyperopt делает всё то же самое, что и grid search, а именно перебирает параметры. По факту же hyperopt превращает это в задачу оптимизации, используя некоторые эвристики для ускорения сходимости процесса. К тому же, он требует лишь информацию о границе интарвалов, а не сами сетки. В теории это должно помочь нам добиться лучших результатов за более короткое время. Давайте попробуем это сделать.\n",
    "\n",
    "Для данного эксперимента я рекомендую использовать lightgbm, поскольку она быстрее и с ней удобнее играться, но Вы можете воспользоваться любой библиотекой из представленных выше.\n",
    "\n",
    "### Задание 7 (кросс-проверка, 4 балла):\n",
    "**Данные**: датасет со стоимостью поддержанных автомобилей\n",
    "**Метрика**: MAE\n",
    "**Цели**: В данном задании следует выполнить следующие пункты:\n",
    "1. Взять любую библиотеку градиентного бустинга (можете взять самую быструю)\n",
    "2. Составить сетку перебора в hyperopt, включающую параметры n_estimators, max_depth и learning_rate в hyperopt. Вам могут понадобиться такие типы данных, как hp.choise, hp.qloguniform, hp.uniform и hp.quniform (можно также пользоваться np.arange). Также для округления значения типа float до целых чисел (4.0 -> 4) используйте `scope.int`.\n",
    "3. Реализуйте функцию, которая принимает на вход словарь параметров для регрессора, и при помощи cv оценивает его качество на датасете A (можно воспользоваться cross_val_score, а для ускорения поставить cv=3). Не забудьте о том, в каком виде lightgbm принимает категориальные признаки в numpy и что также надо передавать индексы категориальных признаков.\n",
    "4. Создайте объект trials=Trials(), который будет хранить информацию о процессе оптимизации.\n",
    "5. Используя функцию fmin, оптимизируйте Вашу функцию. Установите algo=tpe.suggest, trials=trials и max_evals, по крайней мере, 50. verbose=1 позволит видеть прогресс-бар по типу tqdm.\n",
    "6. Выведите получившиеся параметры. Нарисуйте график, показывающий значение loss в ходе оптимизации. Посчитайте качество на тесте при использовании лучших параметров (возвращаются после использования fmin). Сделайте выводы по результату."
   ]
  },
  {
   "cell_type": "code",
   "execution_count": 83,
   "metadata": {
    "execution": {
     "iopub.execute_input": "2022-03-27T17:13:34.585564Z",
     "iopub.status.busy": "2022-03-27T17:13:34.584913Z",
     "iopub.status.idle": "2022-03-27T17:13:34.589627Z",
     "shell.execute_reply": "2022-03-27T17:13:34.588772Z",
     "shell.execute_reply.started": "2022-03-27T17:13:34.585520Z"
    }
   },
   "outputs": [],
   "source": [
    "from hyperopt import hp, fmin, tpe, Trials\n",
    "from hyperopt.pyll.base import scope"
   ]
  },
  {
   "cell_type": "code",
   "execution_count": 84,
   "metadata": {
    "execution": {
     "iopub.execute_input": "2022-03-27T17:13:36.178924Z",
     "iopub.status.busy": "2022-03-27T17:13:36.178447Z",
     "iopub.status.idle": "2022-03-27T17:13:36.185413Z",
     "shell.execute_reply": "2022-03-27T17:13:36.184672Z",
     "shell.execute_reply.started": "2022-03-27T17:13:36.178878Z"
    }
   },
   "outputs": [],
   "source": [
    "X_train_hp = Dataset(X_train['A'], label=y_train, params={'verbose': -1})\n",
    "X_test_hp = Dataset((np.array(X_test_lgb['A'])), label=y_test, params={'verbose': -1})"
   ]
  },
  {
   "cell_type": "code",
   "execution_count": 82,
   "metadata": {
    "execution": {
     "iopub.execute_input": "2022-03-27T17:13:32.441106Z",
     "iopub.status.busy": "2022-03-27T17:13:32.440392Z",
     "iopub.status.idle": "2022-03-27T17:13:32.444657Z",
     "shell.execute_reply": "2022-03-27T17:13:32.443618Z",
     "shell.execute_reply.started": "2022-03-27T17:13:32.441067Z"
    }
   },
   "outputs": [],
   "source": [
    "import lightgbm\n",
    "from lightgbm import Dataset"
   ]
  },
  {
   "cell_type": "code",
   "execution_count": 96,
   "metadata": {
    "execution": {
     "iopub.execute_input": "2022-03-27T17:22:59.455825Z",
     "iopub.status.busy": "2022-03-27T17:22:59.455516Z",
     "iopub.status.idle": "2022-03-27T17:23:37.138169Z",
     "shell.execute_reply": "2022-03-27T17:23:37.137430Z",
     "shell.execute_reply.started": "2022-03-27T17:22:59.455792Z"
    },
    "pycharm": {
     "name": "#%%\n"
    }
   },
   "outputs": [],
   "source": [
    "import warnings\n",
    "warnings.filterwarnings(\"ignore\")\n",
    "\n",
    "trials = Trials()\n",
    "    \n",
    "def quality(param_hp):\n",
    "\n",
    "    cv = lightgbm.cv(param_hp,\n",
    "                X_train_hp,\n",
    "                num_boost_round=100,\n",
    "                metrics='mae',\n",
    "                early_stopping_rounds=15,\n",
    "                stratified=False,\n",
    "                verbose_eval=False\n",
    "                ) \n",
    "\n",
    "    return cv['l1-mean'][-1]\n",
    "\n",
    "grid = {'learning_rate':    hp.loguniform('learning_rate', np.log(0.005), np.log(0.2)),\n",
    "        'max_depth':        scope.int(hp.quniform('max_depth', 5, 16, 1)),\n",
    "        'n_estimators':     scope.int(hp.quniform('n_estimators', 30, 150, 1))\n",
    "       }\n",
    "\n",
    "trials = Trials()\n",
    "\n",
    "best = fmin(fn=quality,\n",
    "                space=grid,\n",
    "                algo=tpe.suggest,\n",
    "                max_evals=50,\n",
    "                trials=trials,\n",
    "                verbose= 1)"
   ]
  },
  {
   "cell_type": "code",
   "execution_count": 97,
   "metadata": {
    "execution": {
     "iopub.execute_input": "2022-03-27T17:24:40.797666Z",
     "iopub.status.busy": "2022-03-27T17:24:40.796905Z",
     "iopub.status.idle": "2022-03-27T17:24:40.802756Z",
     "shell.execute_reply": "2022-03-27T17:24:40.801864Z",
     "shell.execute_reply.started": "2022-03-27T17:24:40.797609Z"
    }
   },
   "outputs": [],
   "source": [
    "best"
   ]
  },
  {
   "cell_type": "code",
   "execution_count": 103,
   "metadata": {
    "execution": {
     "iopub.execute_input": "2022-03-27T17:27:40.885294Z",
     "iopub.status.busy": "2022-03-27T17:27:40.884559Z",
     "iopub.status.idle": "2022-03-27T17:27:41.057944Z",
     "shell.execute_reply": "2022-03-27T17:27:41.057033Z",
     "shell.execute_reply.started": "2022-03-27T17:27:40.885257Z"
    }
   },
   "outputs": [],
   "source": [
    "model_hp = lightgbm.train({'learning_rate': 0.19888250385733872, 'max_depth': 9, 'n_estimators': 149}, X_train_hp, 10000, verbose_eval=-1)\n",
    "mean_absolute_error(model_hp.predict(np.array(X_test_lgb['A'])), y_test)"
   ]
  },
  {
   "cell_type": "markdown",
   "metadata": {
    "pycharm": {
     "name": "#%% md\n"
    }
   },
   "source": [
    "**Ваши выводы:**"
   ]
  },
  {
   "cell_type": "markdown",
   "metadata": {},
   "source": [
    "\n",
    "## Конец\n",
    "\n",
    "Ну что детишки... Можете добавлять еще 4 библиотеки в своё резюме датасаентиста!\n"
   ]
  }
 ],
 "metadata": {
  "kernelspec": {
   "display_name": "Python 3",
   "language": "python",
   "name": "python3"
  },
  "language_info": {
   "codemirror_mode": {
    "name": "ipython",
    "version": 3
   },
   "file_extension": ".py",
   "mimetype": "text/x-python",
   "name": "python",
   "nbconvert_exporter": "python",
   "pygments_lexer": "ipython3",
   "version": "3.8.8"
  }
 },
 "nbformat": 4,
 "nbformat_minor": 4
}
